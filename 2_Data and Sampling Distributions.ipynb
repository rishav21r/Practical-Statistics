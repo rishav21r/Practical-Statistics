{
 "cells": [
  {
   "cell_type": "markdown",
   "id": "5cf07436-7084-4ee6-bc40-3593a958f674",
   "metadata": {},
   "source": [
    "# Module 2. Exploratory Data Analysis\n",
    "\n",
    "\n",
    "Below are the steps to install R packages while using Jupyter Notebook.\n",
    "- Display current library search paths where R looks for packages."
   ]
  },
  {
   "cell_type": "code",
   "execution_count": null,
   "id": "c119fbe2-2d72-4b3f-a1d4-a1965fe77859",
   "metadata": {},
   "outputs": [],
   "source": []
  }
 ],
 "metadata": {
  "kernelspec": {
   "display_name": "R",
   "language": "R",
   "name": "ir"
  },
  "language_info": {
   "codemirror_mode": "r",
   "file_extension": ".r",
   "mimetype": "text/x-r-source",
   "name": "R",
   "pygments_lexer": "r",
   "version": "4.3.3"
  }
 },
 "nbformat": 4,
 "nbformat_minor": 5
}
