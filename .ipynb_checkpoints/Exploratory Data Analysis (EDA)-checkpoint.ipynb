{
 "cells": [
  {
   "cell_type": "markdown",
   "id": "714d7c39-d2c6-433c-ad13-ea52ab9f72bb",
   "metadata": {},
   "source": [
    "# Chapter 1. Exploratory Data Analysis\n",
    "Below are the steps to install R packages while using Jupyter Notebook.\n",
    "- Display current library search paths where R looks for packages."
   ]
  },
  {
   "cell_type": "code",
   "execution_count": 2,
   "id": "556b2871-ed62-4fc9-9ce3-7d5b3c9ae3ec",
   "metadata": {},
   "outputs": [
    {
     "data": {
      "text/html": [
       "'/Library/Frameworks/R.framework/Versions/4.3-arm64/Resources/library'"
      ],
      "text/latex": [
       "'/Library/Frameworks/R.framework/Versions/4.3-arm64/Resources/library'"
      ],
      "text/markdown": [
       "'/Library/Frameworks/R.framework/Versions/4.3-arm64/Resources/library'"
      ],
      "text/plain": [
       "[1] \"/Library/Frameworks/R.framework/Versions/4.3-arm64/Resources/library\""
      ]
     },
     "metadata": {},
     "output_type": "display_data"
    }
   ],
   "source": [
    ".libPaths()"
   ]
  },
  {
   "cell_type": "markdown",
   "id": "81d9d24b-e9ee-45b0-ab15-155997ee89c4",
   "metadata": {},
   "source": [
    "- Assign it to a variable"
   ]
  },
  {
   "cell_type": "code",
   "execution_count": 4,
   "id": "bb7a01b4-7d0b-454b-913d-1157c281c775",
   "metadata": {},
   "outputs": [],
   "source": [
    "lib_path <- '/Library/Frameworks/R.framework/Versions/4.3-arm64/Resources/library'"
   ]
  },
  {
   "cell_type": "markdown",
   "id": "d665edfd-ef0a-4c01-b347-b6b53cbc9523",
   "metadata": {},
   "source": [
    " - Installing necessary R packages"
   ]
  },
  {
   "cell_type": "code",
   "execution_count": 6,
   "id": "d914e473-a914-43e6-9181-a0f38a670dd2",
   "metadata": {},
   "outputs": [
    {
     "name": "stdout",
     "output_type": "stream",
     "text": [
      "\n",
      "The downloaded binary packages are in\n",
      "\t/var/folders/bm/0df2kcrd4pqdsjmb2dh3w2tm0000gn/T//Rtmpx1URnn/downloaded_packages\n",
      "\n",
      "The downloaded binary packages are in\n",
      "\t/var/folders/bm/0df2kcrd4pqdsjmb2dh3w2tm0000gn/T//Rtmpx1URnn/downloaded_packages\n",
      "\n",
      "The downloaded binary packages are in\n",
      "\t/var/folders/bm/0df2kcrd4pqdsjmb2dh3w2tm0000gn/T//Rtmpx1URnn/downloaded_packages\n",
      "\n",
      "The downloaded binary packages are in\n",
      "\t/var/folders/bm/0df2kcrd4pqdsjmb2dh3w2tm0000gn/T//Rtmpx1URnn/downloaded_packages\n",
      "\n",
      "The downloaded binary packages are in\n",
      "\t/var/folders/bm/0df2kcrd4pqdsjmb2dh3w2tm0000gn/T//Rtmpx1URnn/downloaded_packages\n",
      "\n",
      "The downloaded binary packages are in\n",
      "\t/var/folders/bm/0df2kcrd4pqdsjmb2dh3w2tm0000gn/T//Rtmpx1URnn/downloaded_packages\n",
      "\n",
      "The downloaded binary packages are in\n",
      "\t/var/folders/bm/0df2kcrd4pqdsjmb2dh3w2tm0000gn/T//Rtmpx1URnn/downloaded_packages\n"
     ]
    }
   ],
   "source": [
    "install.packages('dplyr', lib = lib_path)\n",
    "install.packages('tidyr', lib = lib_path)\n",
    "install.packages('ggplot2', lib = lib_path)\n",
    "install.packages('vioplot', lib = lib_path)\n",
    "install.packages('corrplot', lib = lib_path)\n",
    "install.packages('gmodels', lib = lib_path)\n",
    "install.packages('matrixStats', lib = lib_path)"
   ]
  },
  {
   "cell_type": "code",
   "execution_count": 6,
   "id": "3f61bd94-5185-4f60-a720-854a32229cbe",
   "metadata": {},
   "outputs": [
    {
     "name": "stderr",
     "output_type": "stream",
     "text": [
      "\n",
      "Attaching package: ‘dplyr’\n",
      "\n",
      "\n",
      "The following objects are masked from ‘package:stats’:\n",
      "\n",
      "    filter, lag\n",
      "\n",
      "\n",
      "The following objects are masked from ‘package:base’:\n",
      "\n",
      "    intersect, setdiff, setequal, union\n",
      "\n",
      "\n",
      "Loading required package: sm\n",
      "\n",
      "Package 'sm', version 2.2-6.0: type help(sm) for summary information\n",
      "\n",
      "Loading required package: zoo\n",
      "\n",
      "\n",
      "Attaching package: ‘zoo’\n",
      "\n",
      "\n",
      "The following objects are masked from ‘package:base’:\n",
      "\n",
      "    as.Date, as.Date.numeric\n",
      "\n",
      "\n",
      "corrplot 0.92 loaded\n",
      "\n",
      "\n",
      "Attaching package: ‘matrixStats’\n",
      "\n",
      "\n",
      "The following object is masked from ‘package:dplyr’:\n",
      "\n",
      "    count\n",
      "\n",
      "\n"
     ]
    }
   ],
   "source": [
    "library(dplyr)\n",
    "library(tidyr)\n",
    "library(ggplot2)\n",
    "library(vioplot)\n",
    "library(corrplot)\n",
    "library(gmodels)\n",
    "library(matrixStats)"
   ]
  },
  {
   "cell_type": "code",
   "execution_count": 8,
   "id": "13999a8f-72b1-4917-8dd0-44b37f129de0",
   "metadata": {},
   "outputs": [
    {
     "data": {
      "text/html": [
       "<table class=\"dataframe\">\n",
       "<caption>A data.frame: 6 × 4</caption>\n",
       "<thead>\n",
       "\t<tr><th></th><th scope=col>pct_carrier_delay</th><th scope=col>pct_atc_delay</th><th scope=col>pct_weather_delay</th><th scope=col>airline</th></tr>\n",
       "\t<tr><th></th><th scope=col>&lt;dbl&gt;</th><th scope=col>&lt;dbl&gt;</th><th scope=col>&lt;dbl&gt;</th><th scope=col>&lt;chr&gt;</th></tr>\n",
       "</thead>\n",
       "<tbody>\n",
       "\t<tr><th scope=row>1</th><td> 8.153226</td><td> 1.971774</td><td>0.7620968</td><td>American</td></tr>\n",
       "\t<tr><th scope=row>2</th><td> 5.959924</td><td> 3.706107</td><td>1.5858779</td><td>American</td></tr>\n",
       "\t<tr><th scope=row>3</th><td> 7.157270</td><td> 2.706231</td><td>2.0267062</td><td>American</td></tr>\n",
       "\t<tr><th scope=row>4</th><td>12.100000</td><td>11.033333</td><td>0.0000000</td><td>American</td></tr>\n",
       "\t<tr><th scope=row>5</th><td> 7.333333</td><td> 3.365591</td><td>1.7741935</td><td>American</td></tr>\n",
       "\t<tr><th scope=row>6</th><td> 6.163889</td><td> 3.225000</td><td>0.9750000</td><td>American</td></tr>\n",
       "</tbody>\n",
       "</table>\n"
      ],
      "text/latex": [
       "A data.frame: 6 × 4\n",
       "\\begin{tabular}{r|llll}\n",
       "  & pct\\_carrier\\_delay & pct\\_atc\\_delay & pct\\_weather\\_delay & airline\\\\\n",
       "  & <dbl> & <dbl> & <dbl> & <chr>\\\\\n",
       "\\hline\n",
       "\t1 &  8.153226 &  1.971774 & 0.7620968 & American\\\\\n",
       "\t2 &  5.959924 &  3.706107 & 1.5858779 & American\\\\\n",
       "\t3 &  7.157270 &  2.706231 & 2.0267062 & American\\\\\n",
       "\t4 & 12.100000 & 11.033333 & 0.0000000 & American\\\\\n",
       "\t5 &  7.333333 &  3.365591 & 1.7741935 & American\\\\\n",
       "\t6 &  6.163889 &  3.225000 & 0.9750000 & American\\\\\n",
       "\\end{tabular}\n"
      ],
      "text/markdown": [
       "\n",
       "A data.frame: 6 × 4\n",
       "\n",
       "| <!--/--> | pct_carrier_delay &lt;dbl&gt; | pct_atc_delay &lt;dbl&gt; | pct_weather_delay &lt;dbl&gt; | airline &lt;chr&gt; |\n",
       "|---|---|---|---|---|\n",
       "| 1 |  8.153226 |  1.971774 | 0.7620968 | American |\n",
       "| 2 |  5.959924 |  3.706107 | 1.5858779 | American |\n",
       "| 3 |  7.157270 |  2.706231 | 2.0267062 | American |\n",
       "| 4 | 12.100000 | 11.033333 | 0.0000000 | American |\n",
       "| 5 |  7.333333 |  3.365591 | 1.7741935 | American |\n",
       "| 6 |  6.163889 |  3.225000 | 0.9750000 | American |\n",
       "\n"
      ],
      "text/plain": [
       "  pct_carrier_delay pct_atc_delay pct_weather_delay airline \n",
       "1  8.153226          1.971774     0.7620968         American\n",
       "2  5.959924          3.706107     1.5858779         American\n",
       "3  7.157270          2.706231     2.0267062         American\n",
       "4 12.100000         11.033333     0.0000000         American\n",
       "5  7.333333          3.365591     1.7741935         American\n",
       "6  6.163889          3.225000     0.9750000         American"
      ]
     },
     "metadata": {},
     "output_type": "display_data"
    }
   ],
   "source": [
    "# Set the PSDS_PATH to the specific directory\n",
    "PSDS_PATH <- '/Users/rohitrishav/Work/Projects/practicalStats/data'\n",
    "\n",
    "# Read the data from the specified directory\n",
    "state <- read.csv(file.path(PSDS_PATH, 'state.csv'))\n",
    "dfw <- read.csv(file.path(PSDS_PATH, 'dfw_airline.csv'))\n",
    "sp500_px <- read.csv(file.path(PSDS_PATH, 'sp500_data.csv.gz'), row.names = 1)\n",
    "sp500_sym <- read.csv(file.path(PSDS_PATH, 'sp500_sectors.csv'), stringsAsFactors = FALSE)\n",
    "kc_tax <- read.csv(file.path(PSDS_PATH, 'kc_tax.csv.gz'))\n",
    "lc_loans <- read.csv(file.path(PSDS_PATH, 'lc_loans.csv'))\n",
    "airline_stats <- read.csv(file.path(PSDS_PATH, 'airline_stats.csv'), stringsAsFactors = FALSE)\n",
    "\n",
    "# Display the airline_stats data\n",
    "head(airline_stats)\n",
    "\n",
    "# Set the airline levels\n",
    "airline_stats$airline <- factor(airline_stats$airline, \n",
    "                                levels = c('Alaska', 'American', 'Jet Blue', 'Delta', 'United', 'Southwest'))"
   ]
  },
  {
   "cell_type": "markdown",
   "id": "1f95cf15-4a50-4e58-bc04-de3d9f918fd4",
   "metadata": {},
   "source": [
    "## Location Estimates of Population and Murder Rates"
   ]
  },
  {
   "cell_type": "code",
   "execution_count": 17,
   "id": "81c68548-d8fd-40ec-8c48-30567256df2e",
   "metadata": {},
   "outputs": [
    {
     "data": {
      "text/html": [
       "<table class=\"dataframe\">\n",
       "<caption>A data.frame: 8 × 4</caption>\n",
       "<thead>\n",
       "\t<tr><th></th><th scope=col>State</th><th scope=col>Population</th><th scope=col>Murder.Rate</th><th scope=col>Abbreviation</th></tr>\n",
       "\t<tr><th></th><th scope=col>&lt;chr&gt;</th><th scope=col>&lt;chr&gt;</th><th scope=col>&lt;dbl&gt;</th><th scope=col>&lt;chr&gt;</th></tr>\n",
       "</thead>\n",
       "<tbody>\n",
       "\t<tr><th scope=row>1</th><td>Alabama    </td><td>4,779,736 </td><td>5.7</td><td>AL</td></tr>\n",
       "\t<tr><th scope=row>2</th><td>Alaska     </td><td>710,231   </td><td>5.6</td><td>AK</td></tr>\n",
       "\t<tr><th scope=row>3</th><td>Arizona    </td><td>6,392,017 </td><td>4.7</td><td>AZ</td></tr>\n",
       "\t<tr><th scope=row>4</th><td>Arkansas   </td><td>2,915,918 </td><td>5.6</td><td>AR</td></tr>\n",
       "\t<tr><th scope=row>5</th><td>California </td><td>37,253,956</td><td>4.4</td><td>CA</td></tr>\n",
       "\t<tr><th scope=row>6</th><td>Colorado   </td><td>5,029,196 </td><td>2.8</td><td>CO</td></tr>\n",
       "\t<tr><th scope=row>7</th><td>Connecticut</td><td>3,574,097 </td><td>2.4</td><td>CT</td></tr>\n",
       "\t<tr><th scope=row>8</th><td>Delaware   </td><td>897,934   </td><td>5.8</td><td>DE</td></tr>\n",
       "</tbody>\n",
       "</table>\n"
      ],
      "text/latex": [
       "A data.frame: 8 × 4\n",
       "\\begin{tabular}{r|llll}\n",
       "  & State & Population & Murder.Rate & Abbreviation\\\\\n",
       "  & <chr> & <chr> & <dbl> & <chr>\\\\\n",
       "\\hline\n",
       "\t1 & Alabama     & 4,779,736  & 5.7 & AL\\\\\n",
       "\t2 & Alaska      & 710,231    & 5.6 & AK\\\\\n",
       "\t3 & Arizona     & 6,392,017  & 4.7 & AZ\\\\\n",
       "\t4 & Arkansas    & 2,915,918  & 5.6 & AR\\\\\n",
       "\t5 & California  & 37,253,956 & 4.4 & CA\\\\\n",
       "\t6 & Colorado    & 5,029,196  & 2.8 & CO\\\\\n",
       "\t7 & Connecticut & 3,574,097  & 2.4 & CT\\\\\n",
       "\t8 & Delaware    & 897,934    & 5.8 & DE\\\\\n",
       "\\end{tabular}\n"
      ],
      "text/markdown": [
       "\n",
       "A data.frame: 8 × 4\n",
       "\n",
       "| <!--/--> | State &lt;chr&gt; | Population &lt;chr&gt; | Murder.Rate &lt;dbl&gt; | Abbreviation &lt;chr&gt; |\n",
       "|---|---|---|---|---|\n",
       "| 1 | Alabama     | 4,779,736  | 5.7 | AL |\n",
       "| 2 | Alaska      | 710,231    | 5.6 | AK |\n",
       "| 3 | Arizona     | 6,392,017  | 4.7 | AZ |\n",
       "| 4 | Arkansas    | 2,915,918  | 5.6 | AR |\n",
       "| 5 | California  | 37,253,956 | 4.4 | CA |\n",
       "| 6 | Colorado    | 5,029,196  | 2.8 | CO |\n",
       "| 7 | Connecticut | 3,574,097  | 2.4 | CT |\n",
       "| 8 | Delaware    | 897,934    | 5.8 | DE |\n",
       "\n"
      ],
      "text/plain": [
       "  State       Population Murder.Rate Abbreviation\n",
       "1 Alabama     4,779,736  5.7         AL          \n",
       "2 Alaska      710,231    5.6         AK          \n",
       "3 Arizona     6,392,017  4.7         AZ          \n",
       "4 Arkansas    2,915,918  5.6         AR          \n",
       "5 California  37,253,956 4.4         CA          \n",
       "6 Colorado    5,029,196  2.8         CO          \n",
       "7 Connecticut 3,574,097  2.4         CT          \n",
       "8 Delaware    897,934    5.8         DE          "
      ]
     },
     "metadata": {},
     "output_type": "display_data"
    }
   ],
   "source": [
    "# Table 1-2\n",
    "state_asc <- state\n",
    "state_asc[['Population']] <- formatC(state_asc[['Population']], format='d', digits=0, big.mark=',')\n",
    "state_asc[1:8,]"
   ]
  },
  {
   "cell_type": "markdown",
   "id": "84d2e78f-618d-4a95-8b65-4c84c00c3d3b",
   "metadata": {},
   "source": [
    "### Mean, Trimmed mean, and Median for the population"
   ]
  },
  {
   "cell_type": "code",
   "execution_count": null,
   "id": "11c136a1-11a0-4fb2-a9ad-49497d903ceb",
   "metadata": {},
   "outputs": [],
   "source": [
    "# Mean\n",
    "mean(state[['Population']])"
   ]
  },
  {
   "cell_type": "code",
   "execution_count": 25,
   "id": "42f123bd-f53e-4145-9c91-f911dfc548d6",
   "metadata": {},
   "outputs": [
    {
     "data": {
      "text/html": [
       "4783697.125"
      ],
      "text/latex": [
       "4783697.125"
      ],
      "text/markdown": [
       "4783697.125"
      ],
      "text/plain": [
       "[1] 4783697"
      ]
     },
     "metadata": {},
     "output_type": "display_data"
    }
   ],
   "source": [
    "# Trimmed Mean\n",
    "mean(state[['Population']], trim = 0.1)"
   ]
  },
  {
   "cell_type": "code",
   "execution_count": 27,
   "id": "c6f804d9-ccf7-443f-97b9-34b232372b59",
   "metadata": {},
   "outputs": [
    {
     "data": {
      "text/html": [
       "4436369.5"
      ],
      "text/latex": [
       "4436369.5"
      ],
      "text/markdown": [
       "4436369.5"
      ],
      "text/plain": [
       "[1] 4436370"
      ]
     },
     "metadata": {},
     "output_type": "display_data"
    }
   ],
   "source": [
    "# Median\n",
    "median(state[['Population']])"
   ]
  },
  {
   "cell_type": "markdown",
   "id": "04963d19-d470-4660-811b-b67a38c398dc",
   "metadata": {},
   "source": [
    "The mean is bigger than the trimmed mean and bigger than the median. \n",
    "The reason for this is that the trimmed mean omits the five states with the highest and lowest values (with a `trim=0.1`, it removes `10%` from each end). To calculate the national average murder rate, it is essential to use either a weighted mean or median to consider the varying populations across states. As base R lacks a built-in function for the weighted median, it is necessary to install an additional package like `matrixStats` to perform this calculation:"
   ]
  },
  {
   "cell_type": "code",
   "execution_count": 30,
   "id": "2d859ee8-038a-45ea-9fac-ba732d5dfd42",
   "metadata": {},
   "outputs": [
    {
     "name": "stdout",
     "output_type": "stream",
     "text": [
      "\n",
      "The downloaded binary packages are in\n",
      "\t/var/folders/bm/0df2kcrd4pqdsjmb2dh3w2tm0000gn/T//RtmpvQdKc2/downloaded_packages\n"
     ]
    }
   ],
   "source": [
    "install.packages('matrixStats', lib = lib_path)"
   ]
  },
  {
   "cell_type": "code",
   "execution_count": 12,
   "id": "eb51a899-07ba-4ee7-b2ac-a05199618d81",
   "metadata": {},
   "outputs": [],
   "source": [
    "library('matrixStats')"
   ]
  },
  {
   "cell_type": "code",
   "execution_count": 14,
   "id": "9cb883a3-e01b-4d7c-8675-22a89fbc7d01",
   "metadata": {},
   "outputs": [
    {
     "data": {
      "text/html": [
       "4.4"
      ],
      "text/latex": [
       "4.4"
      ],
      "text/markdown": [
       "4.4"
      ],
      "text/plain": [
       "[1] 4.4"
      ]
     },
     "metadata": {},
     "output_type": "display_data"
    }
   ],
   "source": [
    "weightedMedian(state[['Murder.Rate']], w=state[['Population']])"
   ]
  },
  {
   "cell_type": "markdown",
   "id": "ad685bc8-0cbf-4b3c-ab93-9a23f5dc9f5c",
   "metadata": {},
   "source": [
    "### Standard Deviation, IQR, and MAD\n",
    "- IQR - The Interquartile Range\n",
    "- MAD - The median absolute deviation from the median "
   ]
  },
  {
   "cell_type": "code",
   "execution_count": 15,
   "id": "b1ff7979-46a3-44cf-8373-dba4ea8415a8",
   "metadata": {},
   "outputs": [
    {
     "data": {
      "text/html": [
       "6848235.34740114"
      ],
      "text/latex": [
       "6848235.34740114"
      ],
      "text/markdown": [
       "6848235.34740114"
      ],
      "text/plain": [
       "[1] 6848235"
      ]
     },
     "metadata": {},
     "output_type": "display_data"
    }
   ],
   "source": [
    "sd(state[['Population']])"
   ]
  },
  {
   "cell_type": "code",
   "execution_count": 19,
   "id": "7a2e5a95-cd5c-4d1c-b882-a3c984434145",
   "metadata": {},
   "outputs": [
    {
     "data": {
      "text/html": [
       "4847308"
      ],
      "text/latex": [
       "4847308"
      ],
      "text/markdown": [
       "4847308"
      ],
      "text/plain": [
       "[1] 4847308"
      ]
     },
     "metadata": {},
     "output_type": "display_data"
    }
   ],
   "source": [
    "IQR(state[['Population']])"
   ]
  },
  {
   "cell_type": "code",
   "execution_count": 21,
   "id": "f8a46911-ec21-4aea-a961-78d540cf0612",
   "metadata": {},
   "outputs": [
    {
     "data": {
      "text/html": [
       "3849870.3852"
      ],
      "text/latex": [
       "3849870.3852"
      ],
      "text/markdown": [
       "3849870.3852"
      ],
      "text/plain": [
       "[1] 3849870"
      ]
     },
     "metadata": {},
     "output_type": "display_data"
    }
   ],
   "source": [
    "mad(state[['Population']])"
   ]
  },
  {
   "cell_type": "code",
   "execution_count": null,
   "id": "08f10660-ceca-405a-818d-2259174be272",
   "metadata": {},
   "outputs": [],
   "source": []
  }
 ],
 "metadata": {
  "kernelspec": {
   "display_name": "R",
   "language": "R",
   "name": "ir"
  },
  "language_info": {
   "codemirror_mode": "r",
   "file_extension": ".r",
   "mimetype": "text/x-r-source",
   "name": "R",
   "pygments_lexer": "r",
   "version": "4.3.3"
  }
 },
 "nbformat": 4,
 "nbformat_minor": 5
}
